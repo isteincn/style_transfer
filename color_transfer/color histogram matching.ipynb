{
 "cells": [
  {
   "cell_type": "code",
   "execution_count": 1,
   "metadata": {},
   "outputs": [],
   "source": [
    "import numpy as np\n",
    "import skimage.io as io\n",
    "import matplotlib.pyplot as plt\n",
    "from commonfunctions import * \n",
    "from scipy.linalg import fractional_matrix_power as f_power\n",
    "from numpy.linalg import matrix_power"
   ]
  },
  {
   "cell_type": "code",
   "execution_count": 14,
   "metadata": {},
   "outputs": [],
   "source": [
    "def color_histogram_matching(content,style):\n",
    "    original = content.copy()\n",
    "    #calculate mean\n",
    "    content_mu = np.mean(content, axis=(0, 1))\n",
    "    style_mu = np.mean(content, axis=(0, 1))\n",
    "    #calculate covariance\n",
    "    style_cov = covariance(style, style_mu)\n",
    "    content_cov = covariance(content, content_mu)\n",
    "    #get A\n",
    "    A=f_power(style_cov, 0.5).dot(f_power(content_cov, -0.5))\n",
    "    #get b\n",
    "    b = ((style_mu.T - A.dot(content_mu.T)).T)\n",
    "    #transfer content color\n",
    "    x, y, _ = np.shape(content)\n",
    "    for i in range (x):\n",
    "        for j in range (y):\n",
    "            content[i, j, :] = np.dot(A, content[i, j, :]) + b\n",
    "    show_images([style,original,content], [\"style\",\"Original\",\"Colored\"])"
   ]
  },
  {
   "cell_type": "code",
   "execution_count": null,
   "metadata": {},
   "outputs": [],
   "source": [
    "content = np.array(io.imread('images/ocean_day.jpg'))/255.0\n",
    "style = np.array(io.imread('images/ocean_sunset.jpg'))/255.0\n",
    "color_histogram_matching(content,style)"
   ]
  },
  {
   "cell_type": "code",
   "execution_count": null,
   "metadata": {},
   "outputs": [],
   "source": []
  }
 ],
 "metadata": {
  "anaconda-cloud": {},
  "kernelspec": {
   "display_name": "Python 3",
   "language": "python",
   "name": "python3"
  },
  "language_info": {
   "codemirror_mode": {
    "name": "ipython",
    "version": 3
   },
   "file_extension": ".py",
   "mimetype": "text/x-python",
   "name": "python",
   "nbconvert_exporter": "python",
   "pygments_lexer": "ipython3",
   "version": "3.6.6"
  }
 },
 "nbformat": 4,
 "nbformat_minor": 1
}
